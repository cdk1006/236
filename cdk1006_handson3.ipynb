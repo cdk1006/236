{
 "cells": [
  {
   "cell_type": "markdown",
   "metadata": {},
   "source": [
    "# Functions\n",
    "\n",
    "To submit this assignment in D2l, post the link to your notebook file on your GitHub account."
   ]
  },
  {
   "cell_type": "markdown",
   "metadata": {},
   "source": [
    "## 4.1 Even or Odd Checker\n",
    "Create a program that checks whether a number is even or odd.\n",
    "\n",
    "### Console:\n",
    "```powershell\n",
    "Even or Odd Checker\n",
    "\n",
    "Enter an integer: 33\n",
    "This is an odd number.\n",
    "```\n",
    "\n",
    "### Specifications:\n",
    "- Store the code that gets user input and displays output in the main function.\n",
    "- Store the code that checks whether the number is even or odd in a separate function.\n",
    "- Assume that the user will enter a valid integer.\n"
   ]
  },
  {
   "cell_type": "code",
   "execution_count": 1,
   "metadata": {},
   "outputs": [
    {
     "name": "stdout",
     "output_type": "stream",
     "text": [
      "Check even or odd\n",
      "\n"
     ]
    },
    {
     "name": "stdin",
     "output_type": "stream",
     "text": [
      "Please enter an integer:  67\n"
     ]
    },
    {
     "name": "stdout",
     "output_type": "stream",
     "text": [
      "This is an odd number.\n"
     ]
    }
   ],
   "source": [
    "### CODE HERE ###\n",
    "def check(number):\n",
    "    if number % 2 == 0:\n",
    "        return \"This is an even number.\"\n",
    "    else:\n",
    "        return \"This is an odd number.\"\n",
    "\n",
    "def main():\n",
    "    print(\"Check even or odd\\n\")\n",
    "\n",
    "    user_input = int(input(\"Please enter an integer: \"))\n",
    "\n",
    "    result = check(user_input)\n",
    "    print(result)\n",
    "    \n",
    "if __name__ == \"__main__\":\n",
    "    main()"
   ]
  },
  {
   "cell_type": "markdown",
   "metadata": {},
   "source": [
    "## 4.2 - Feet and Meters Converter\n",
    "Create a program that converts feet to meters and vice versa.\n",
    "\n",
    "### Console\n",
    "```powershell\n",
    "Feet and Meters Converter\n",
    "\n",
    "Conversions Menu:\n",
    "a.\tFeet to Meters\n",
    "b.\tMeters to Feet\n",
    "Select a conversion (a/b): a\n",
    "\n",
    "Enter feet: 100\n",
    "30.48 meters\n",
    "\n",
    "Would you like to perform another conversion? (y/n): y \n",
    "\n",
    "Conversions Menu:\n",
    "a.\tFeet to Meters\n",
    "b.\tMeters to Feet\n",
    "Select a conversion (a/b): b\n",
    "\n",
    "Enter meters: 100\n",
    "328.08 feet\n",
    "\n",
    "Would you like to perform another conversion? (y/n): n\n",
    "\n",
    "Thanks, bye!\n",
    "```\n",
    "\n",
    "### Specifications:\n",
    "- The formula for converting feet to meters is:\n",
    "`feet = meters / 0.3048`\n",
    "\n",
    "- The formula for converting meters to feet is:\n",
    "`meters = feet * 0.3048`\n",
    "\n",
    "- Store the code that performs the conversions in functions within a module. For example, store the code that converts feet to meters in a function in a module.\n",
    "- Store the code that displays the title in its own function, and store the code that displays the menu in its own function, but store the rest of the code that gets input and displays output in a main function.\n",
    "- Assume the user will enter valid data.\n",
    "- The program should round results to a maximum of two decimal places.\n",
    "\n",
    "\n"
   ]
  },
  {
   "cell_type": "code",
   "execution_count": 1,
   "metadata": {
    "scrolled": true
   },
   "outputs": [
    {
     "name": "stdout",
     "output_type": "stream",
     "text": [
      "Feet and Meters Converter!\n",
      "\n",
      "Conversion Menu: \n",
      "a.\tFeet to Meters\n",
      "b.\tMeters to Feet\n"
     ]
    },
    {
     "name": "stdin",
     "output_type": "stream",
     "text": [
      "Select a conversion (a/b):  a\n",
      "Enter feet: 500\n"
     ]
    },
    {
     "name": "stdout",
     "output_type": "stream",
     "text": [
      "152.4 meters\n",
      "\n"
     ]
    },
    {
     "name": "stdin",
     "output_type": "stream",
     "text": [
      "Would you like to perform another conversion? (y/n):  y\n"
     ]
    },
    {
     "name": "stdout",
     "output_type": "stream",
     "text": [
      "Feet and Meters Converter!\n",
      "\n",
      "Conversion Menu: \n",
      "a.\tFeet to Meters\n",
      "b.\tMeters to Feet\n"
     ]
    },
    {
     "name": "stdin",
     "output_type": "stream",
     "text": [
      "Select a conversion (a/b):  b\n",
      "\n",
      "Enter meters:  152.4\n"
     ]
    },
    {
     "name": "stdout",
     "output_type": "stream",
     "text": [
      "500.0 feet\n",
      "\n"
     ]
    },
    {
     "name": "stdin",
     "output_type": "stream",
     "text": [
      "Would you like to perform another conversion? (y/n):  n\n"
     ]
    },
    {
     "name": "stdout",
     "output_type": "stream",
     "text": [
      "\n",
      "Goodbye!\n"
     ]
    }
   ],
   "source": [
    "### CODE HERE ###\n",
    "\n",
    "import conversions\n",
    "def title():\n",
    "    return \"Feet and Meters Converter!\\n\"\n",
    "\n",
    "def menu():\n",
    "    print(\"Conversion Menu: \")\n",
    "    print(\"a.\\tFeet to Meters\")\n",
    "    print(\"b.\\tMeters to Feet\")\n",
    "\n",
    "def main():\n",
    "    while True:\n",
    "        print(title())\n",
    "        menu()\n",
    "        choice = input(\"Select a conversion (a/b): \").lower()\n",
    "\n",
    "        if choice == 'a':\n",
    "            feet = float(input(\"Enter feet:\"))\n",
    "            meters = conversions.feet_to_meters(feet)\n",
    "            print(f\"{meters} meters\")\n",
    "        elif choice == 'b':\n",
    "            meters = float(input(\"\\nEnter meters: \"))\n",
    "            feet = conversions.meters_to_feet(meters)\n",
    "            print(f\"{feet} feet\")\n",
    "\n",
    "        print()\n",
    "        again = input(\"Would you like to perform another conversion? (y/n): \").lower()\n",
    "        if again != 'y':\n",
    "            print(\"\\nGoodbye!\")\n",
    "            break\n",
    "            print()\n",
    "if __name__ == \"__main__\":\n",
    "    main()"
   ]
  },
  {
   "cell_type": "markdown",
   "metadata": {},
   "source": [
    "## 4.3 - Sales Tax Calculator\n",
    "Create a program that uses a separate module to calculate sales tax and total after tax.\n",
    "\n",
    "### Console\n",
    "```powershell\n",
    "Sales Tax Calculator\n",
    "\n",
    "ENTER ITEMS (ENTER 0 TO END)\n",
    "Cost of item: 35.99 \n",
    "Cost of item: 27.50 \n",
    "Cost of item: 19.59 \n",
    "Cost of item: 0 \n",
    "Total:  83.08\n",
    "Sales tax:\t4.98\n",
    "Total after tax: 88.06 \n",
    "\n",
    "Again? (y/n): y\n",
    "\n",
    "ENTER ITEMS (ENTER 0 TO END)\n",
    "Cost of item: 152.50 \n",
    "Cost of item: 59.80 \n",
    "Cost of item: 0\n",
    "Total:  212.3\n",
    "Sales tax:\t12.74\n",
    "Total after tax: 225.04 \n",
    "\n",
    "Again? (y/n): n\n",
    "\n",
    "Thanks, bye!\n",
    "\n",
    "```\n",
    "\n",
    "### Specifications\n",
    "- The sales tax rate should be 6% of the total.\n",
    "- Store the sales tax rate in a module. This module should also contain functions that calculate the sales tax and the total after tax. These functions should round the results to a maximum of two decimal places. Upload the seperate sales tax module to your GitHub repo when submitting.\n",
    "- Store the code that gets input and displays output in this notebook. Divide this code into functions wherever you think it would make that code easier to read and maintain.\n",
    "- Assume the user will enter valid data.\n",
    "\n"
   ]
  },
  {
   "cell_type": "code",
   "execution_count": 9,
   "metadata": {},
   "outputs": [
    {
     "name": "stdout",
     "output_type": "stream",
     "text": [
      "Sales Tax Calculator\n",
      "\n",
      "ENTER ITEMS (ENTER 0 TO END)\n"
     ]
    },
    {
     "name": "stdin",
     "output_type": "stream",
     "text": [
      "Cost of item:  35.99\n",
      "Cost of item:  27.5\n",
      "Cost of item:  19.59\n",
      "Cost of item:  0\n"
     ]
    },
    {
     "name": "stdout",
     "output_type": "stream",
     "text": [
      "Total:  83.08\n",
      "Sales tax:  4.98\n",
      "Total after tax:  88.06\n"
     ]
    },
    {
     "name": "stdin",
     "output_type": "stream",
     "text": [
      "\n",
      "Again? (y/n):  y\n"
     ]
    },
    {
     "name": "stdout",
     "output_type": "stream",
     "text": [
      "\n",
      "ENTER ITEMS (ENTER 0 TO END)\n"
     ]
    },
    {
     "name": "stdin",
     "output_type": "stream",
     "text": [
      "Cost of item:  45.96\n",
      "Cost of item:  12.35\n",
      "Cost of item:  58.9\n",
      "Cost of item:  68.44\n",
      "Cost of item:  0\n"
     ]
    },
    {
     "name": "stdout",
     "output_type": "stream",
     "text": [
      "Total:  185.65\n",
      "Sales tax:  11.14\n",
      "Total after tax:  196.79\n"
     ]
    },
    {
     "name": "stdin",
     "output_type": "stream",
     "text": [
      "\n",
      "Again? (y/n):  n\n"
     ]
    },
    {
     "name": "stdout",
     "output_type": "stream",
     "text": [
      "\n",
      "Thanks, bye!\n"
     ]
    }
   ],
   "source": [
    "### CODE HERE ###\n",
    "import taxcalculations\n",
    "\n",
    "def items():\n",
    "    total = 0\n",
    "    while True:\n",
    "        cost = float(input(\"Cost of item: \"))\n",
    "        if cost == 0:\n",
    "            break\n",
    "        total += cost\n",
    "    return total\n",
    "\n",
    "def display(total):\n",
    "    tax = taxcalculations.total_tax(total)\n",
    "    after_tax = taxcalculations.after_tax_total(total)\n",
    "    print(f\"Total:  {total}\")\n",
    "    print(f\"Sales tax:  {tax}\")\n",
    "    print(f\"Total after tax:  {after_tax}\")\n",
    "\n",
    "def main():\n",
    "    print(\"Sales Tax Calculator\")\n",
    "    while True:\n",
    "        print(\"\\nENTER ITEMS (ENTER 0 TO END)\")\n",
    "        total = items()\n",
    "        display(total)\n",
    "        again = input(\"\\nAgain? (y/n): \").lower()\n",
    "        if again != 'y':\n",
    "            print(\"\\nThanks, bye!\")\n",
    "            break\n",
    "\n",
    "main()"
   ]
  },
  {
   "cell_type": "markdown",
   "metadata": {},
   "source": [
    "## 4.4 - Prime Number Checker\n",
    "Create a program that checks whether a number is a prime number and displays the total number of factors if it is not a prime number.\n",
    "\n",
    "### Console\n",
    "```powershell\n",
    "Prime Number Checker\n",
    "\n",
    "Please enter an integer between 1 and 5000: 1 \n",
    "Invalid integer. Please try again.\n",
    "Please enter an integer between 1 and 5000: 2\n",
    "2 is a prime number. \n",
    "\n",
    "Try again? (y/n): y\n",
    "\n",
    "Please enter an integer between 1 and 5000: 3\n",
    "3 is a prime number.\n",
    "\n",
    "Try again? (y/n): y\n",
    "\n",
    "Please enter an integer between 1 and 5000: 4\n",
    "4 is NOT a prime number.\n",
    "It has 3 factors.\n",
    "\n",
    "Try again? (y/n): y\n",
    "\n",
    "Please enter an integer between 1 and 5000: 6\n",
    "6 is NOT a prime number.\n",
    "It has 4 factors.\n",
    "\n",
    "Try again? (y/n): n\n",
    "\n",
    "Bye!\n",
    "```\n",
    "\n",
    "### Specifications\n",
    "- A prime number is only divisible by two factors (1 and itself). For example, 7 is a prime number because it is only divisible by 1 and 7.\n",
    "- If the number is not a prime number, the program should display its number of factors. For example, 6 has four factors (1, 2, 3, and 6).\n",
    "- Store the code that gets a valid integer for this program in its own function.\n",
    "- Store the code that calculates the number of factors for a number in its own function.\n",
    "- Store the rest of the code that gets input and displays output in the main function.\n",
    "\n"
   ]
  },
  {
   "cell_type": "code",
   "execution_count": 17,
   "metadata": {},
   "outputs": [
    {
     "name": "stdin",
     "output_type": "stream",
     "text": [
      "Please enter an int between 1 and 5000:  55\n"
     ]
    },
    {
     "name": "stdout",
     "output_type": "stream",
     "text": [
      "55 is NOT a prime number\n",
      "55 has 4 factors\n"
     ]
    },
    {
     "name": "stdin",
     "output_type": "stream",
     "text": [
      "\n",
      " Round 2? (y/n) y\n",
      "Please enter an int between 1 and 5000:  7\n"
     ]
    },
    {
     "name": "stdout",
     "output_type": "stream",
     "text": [
      "7 is a prime number\n"
     ]
    },
    {
     "name": "stdin",
     "output_type": "stream",
     "text": [
      "\n",
      " Round 3? (y/n) y\n",
      "Please enter an int between 1 and 5000:  789\n"
     ]
    },
    {
     "name": "stdout",
     "output_type": "stream",
     "text": [
      "789 is NOT a prime number\n",
      "789 has 4 factors\n"
     ]
    },
    {
     "name": "stdin",
     "output_type": "stream",
     "text": [
      "\n",
      " Round 4? (y/n) y\n",
      "Please enter an int between 1 and 5000:  345\n"
     ]
    },
    {
     "name": "stdout",
     "output_type": "stream",
     "text": [
      "345 is NOT a prime number\n",
      "345 has 8 factors\n"
     ]
    },
    {
     "name": "stdin",
     "output_type": "stream",
     "text": [
      "\n",
      " Round 5? (y/n) n\n"
     ]
    },
    {
     "name": "stdout",
     "output_type": "stream",
     "text": [
      "bye!\n"
     ]
    }
   ],
   "source": [
    "### CODE HERE ###\n",
    "\n",
    "def get_a_integer():\n",
    "    num = int(input(\"Please enter an int between 1 and 5000: \"))\n",
    "    if 1 <= num <=5000:\n",
    "        return num\n",
    "    else:\n",
    "        print(\"invalid. try again\")\n",
    "\n",
    "def factor_count(num):\n",
    "    factors = 0\n",
    "    for i in range(1, num + 1):\n",
    "        if num % i == 0:\n",
    "            factors += 1\n",
    "    return factors\n",
    "\n",
    "def main():\n",
    "    round_count = 1\n",
    "    while True:\n",
    "        num = get_a_integer()\n",
    "        factors = factor_count(num)\n",
    "        if factors == 2:\n",
    "            print(f\"{num} is a prime number\")\n",
    "        else:\n",
    "            print(f\"{num} is NOT a prime number\")\n",
    "            print(f\"{num} has {factors} factors\")\n",
    "        round_count += 1\n",
    "        cont = input(f\"\\n Round {round_count}? (y/n)\").lower()\n",
    "        if cont != 'y':\n",
    "            print(\"bye!\")\n",
    "            break\n",
    "main()"
   ]
  },
  {
   "cell_type": "code",
   "execution_count": null,
   "metadata": {},
   "outputs": [],
   "source": []
  }
 ],
 "metadata": {
  "kernelspec": {
   "display_name": "Python [conda env:base] *",
   "language": "python",
   "name": "conda-base-py"
  },
  "language_info": {
   "codemirror_mode": {
    "name": "ipython",
    "version": 3
   },
   "file_extension": ".py",
   "mimetype": "text/x-python",
   "name": "python",
   "nbconvert_exporter": "python",
   "pygments_lexer": "ipython3",
   "version": "3.12.7"
  }
 },
 "nbformat": 4,
 "nbformat_minor": 4
}
